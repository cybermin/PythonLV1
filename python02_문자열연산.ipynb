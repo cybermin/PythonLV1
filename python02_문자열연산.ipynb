{
  "nbformat": 4,
  "nbformat_minor": 0,
  "metadata": {
    "colab": {
      "name": "python02_문자열연산.ipynb",
      "provenance": [],
      "include_colab_link": true
    },
    "kernelspec": {
      "name": "python3",
      "display_name": "Python 3"
    }
  },
  "cells": [
    {
      "cell_type": "markdown",
      "metadata": {
        "id": "view-in-github",
        "colab_type": "text"
      },
      "source": [
        "<a href=\"https://colab.research.google.com/github/cybermin/PythonLV1/blob/main/python02_%EB%AC%B8%EC%9E%90%EC%97%B4%EC%97%B0%EC%82%B0.ipynb\" target=\"_parent\"><img src=\"https://colab.research.google.com/assets/colab-badge.svg\" alt=\"Open In Colab\"/></a>"
      ]
    },
    {
      "cell_type": "markdown",
      "metadata": {
        "id": "AYHuNu_z3JQ1"
      },
      "source": [
        "## 데이터 타입(data type)\n",
        "\n",
        "데이터를 식별하는 분류로 데이터가 가질 수 있는 값을 결정하고 연산을 제어함\n",
        "\n",
        "+ int : 소숫점을 갖지 않는 정수를 갖는 데이타 타입\n",
        "+ float : 소숫점을 갖는 데이타 타입\n",
        "+ bool : True 혹은 False 만을 갖는 타입\n",
        "+ str : 단일인용부호(') 혹은 이중인용부호(\") 를 사용하여 표현하는 문자, 단어 등으로 구성된 문자들의 집합\n",
        "\n",
        "+ **type(변수명) : 변수의 타입 확인**\n",
        "```python\n",
        "type(변수명)\n",
        "```"
      ]
    },
    {
      "cell_type": "code",
      "metadata": {
        "id": "sbDbwO5R321F",
        "colab": {
          "base_uri": "https://localhost:8080/",
          "height": 89
        },
        "outputId": "9263eb13-207a-4031-929a-4b3fb1fac887"
      },
      "source": [
        "#정수형\n",
        "x = 10 \n",
        "print(f\"{x}의 데이터 타입 => {type(x)}\")\n",
        "\n",
        "#실수형\n",
        "x = 10.5 \n",
        "print(f\"{x}의 데이터 타입 => {type(x)}\")\n",
        "\n",
        "#부울형 \n",
        "x = True \n",
        "print(f\"{x}의 데이터 타입 => {type(x)}\")\n",
        "\n",
        "#문자형\n",
        "x = 'python' \n",
        "print(f\"{x}의 데이터 타입 => {type(x)}\")"
      ],
      "execution_count": null,
      "outputs": [
        {
          "output_type": "stream",
          "text": [
            "10의 데이터 타입 => <class 'int'>\n",
            "10.5의 데이터 타입 => <class 'float'>\n",
            "True의 데이터 타입 => <class 'bool'>\n",
            "python의 데이터 타입 => <class 'str'>\n"
          ],
          "name": "stdout"
        }
      ]
    },
    {
      "cell_type": "markdown",
      "metadata": {
        "id": "xGgPlmVggypS"
      },
      "source": [
        "\n",
        "\n",
        "---\n",
        "\n",
        "**생각해보기)**\n",
        "\n",
        "\n",
        "---\n",
        "10과 '10'은 같은 자료형일까?\n"
      ]
    },
    {
      "cell_type": "markdown",
      "metadata": {
        "id": "nPcT1Ltlg5dc"
      },
      "source": [
        "## 형변환(type Casting)\n",
        "* int() : 실수나 문자열을 정수로 변환\n",
        "* float() : 정수나 문자열을 실수로 변환\n",
        "* str() : 정수나 실수를 문자열로 변환"
      ]
    },
    {
      "cell_type": "code",
      "metadata": {
        "colab": {
          "base_uri": "https://localhost:8080/"
        },
        "id": "rjJ2S-2Og9q3",
        "outputId": "c995a9d1-d850-4bda-f09f-57dd6702d332"
      },
      "source": [
        "x = '10'\n",
        "y = int(x)\n",
        "\n",
        "print(x, '=>', type(x))\n",
        "print(y, '=>', type(y))"
      ],
      "execution_count": null,
      "outputs": [
        {
          "output_type": "stream",
          "text": [
            "10 => <class 'str'>\n",
            "10 => <class 'int'>\n"
          ],
          "name": "stdout"
        }
      ]
    },
    {
      "cell_type": "markdown",
      "metadata": {
        "id": "cw6QaTyk4aYz"
      },
      "source": [
        "## 연산자\n",
        "자료를 처리하기 위한 수식들을 결합하여 연산 동작을 수행하도록 하는 기호\n",
        "+ **산술연산자**\n",
        " - 수학적 계산을 수행할 때 사용하는 연산자\n",
        " - 사칙연산자(+, -, *, /), 제곱(**), 나머지(%), 나누기 결과 정수(//)\n",
        "+ **비교연산자(관계연산자)**\n",
        " - 비교할 때 사용하는 연산자\n",
        " - 등호(==), 같지 않음(!=), 부등호(<, >, <=, >=)\n",
        "+ **논리연산자**\n",
        " - 주어진 논리식을 판단하여, 참(true)과 거짓(false)을 결정하는 연산자\n",
        " - and(논리곱), or(논리합), not \n",
        "+ **할당연산자**\n",
        " - 변수에 값을 할당하기 위하여 사용하는 연산자\n",
        " - = (Equal Sign)\n",
        " - +=, -=, *=, /=, %=, //= : 산술연산자와 함께 사용되어 할당을 보다 간결히 하기 위해 사용 "
      ]
    },
    {
      "cell_type": "code",
      "metadata": {
        "id": "D7KERWQ94_VM",
        "colab": {
          "base_uri": "https://localhost:8080/",
          "height": 89
        },
        "outputId": "cf0d2908-5359-48e9-b801-85e551f2ef2c"
      },
      "source": [
        "#할당 연산자 \n",
        "x = 10\n",
        "y = 2.5\n",
        "\n",
        "#산술연산자\n",
        "print(f'{x} + {y} = {x+y}')\n",
        "\n",
        "#산술연산자와 함께 사용한 할당연산자\n",
        "x = x + 10\n",
        "x += 10 \n",
        "print(f'{x}')\n",
        "\n",
        "#비교연산자\n",
        "print(f'{x} > {y} = {x > y}')\n",
        "\n",
        "#논리연산자\n",
        "print(f'{x} > 5 or {y} > 5 = { x > 5 or y > 5}')\n"
      ],
      "execution_count": null,
      "outputs": [
        {
          "output_type": "stream",
          "text": [
            "10 + 2.5 = 12.5\n",
            "30\n",
            "30 > 2.5 = True\n",
            "30 > 5 or 2.5 > 5 = True\n"
          ],
          "name": "stdout"
        }
      ]
    },
    {
      "cell_type": "markdown",
      "metadata": {
        "id": "uk5EQTCn5QFu"
      },
      "source": [
        "## **문자열**\n",
        "+ 문자들의 집합\n",
        "+ 문자열 연산\n",
        "  + 문자열 더하기(+)\n",
        "  + 문자열 곱하기(*)\n",
        "+ 문자열 인덱싱\n",
        " -  문자열의 각 문자는 0부터 시작되는 인덱스를 가짐\n",
        " - [인덱스]를 이용하여 인덱스위치의 문자 추출 :  처음위치 [0], 마지막위치 [-1]\n",
        "+ 문자열 슬라이싱 \n",
        " - [인덱스1:인덱스2]: 인덱스1 위치에서 인덱스2 -1 위치까지 잘라냄\n",
        " - [인덱스1:] : 인덱스1 위치에서 끝까지 잘라냄\n",
        " - [: 인덱스2] : 처음부터 인덱스2 -1 위치까지 잘라냄"
      ]
    },
    {
      "cell_type": "code",
      "metadata": {
        "id": "5EBXggj06Ctz",
        "colab": {
          "base_uri": "https://localhost:8080/",
          "height": 125
        },
        "outputId": "9731a059-d309-4936-b7cc-befef3e86d29"
      },
      "source": [
        "#문자열 더하기\n",
        "x = \"Hello \"\n",
        "y = \"Python!\"\n",
        "\n",
        "z = x + y\n",
        "print(z)\n",
        "\n",
        "#문자열 곱하기\n",
        "print(\"=\" * 50)\n",
        "\n",
        "#문자열 인덱싱\n",
        "print(f'{z}의 두번째 문자 => {z[1]}')\n",
        "\n",
        "#문자열 슬라이싱\n",
        "print(f'{z}의 두번째 문자 => {z[1:3]}')\n",
        "print(f'{z}의 두번째 문자 => {z[1:]}')\n",
        "print(f'{z}의 두번째 문자 => {z[:3]}')\n"
      ],
      "execution_count": null,
      "outputs": [
        {
          "output_type": "stream",
          "text": [
            "Hello Python!\n",
            "==================================================\n",
            "Hello Python!의 두번째 문자 => e\n",
            "Hello Python!의 두번째 문자 => el\n",
            "Hello Python!의 두번째 문자 => ello Python!\n",
            "Hello Python!의 두번째 문자 => Hel\n"
          ],
          "name": "stdout"
        }
      ]
    },
    {
      "cell_type": "markdown",
      "metadata": {
        "id": "1NjbWau46YKz"
      },
      "source": [
        "### **문자열 함수**\n",
        "+ **len()** : 문자열 길이 구하기\n",
        "+ **count()** : 문자의 개수 구하기\n",
        "+ **find()** : 문자가 처음 나오는 위치 반환 , 없으면 -1\n",
        "+ **index()** : 문자가 처음 나오는 위치 반환, 없으면 오류\n",
        "+ **join()** : 문자열 사이에 문자 삽입, 삽입문자’.join(문자열)\n",
        "+ **upper()** :소문자를 대문자로 변환\n",
        "+ **lower()** : 대문자를 소문자로 변환\n",
        "+ **replace()** : 문자열 바꾸기\n",
        "+ **replace(원본, 변환문자)**\n",
        "+ **split()** : 문자열 나누기\n",
        " - 인수가 없으면 공백(스페이스, 탭, 엔터 등)을 기준\n"
      ]
    },
    {
      "cell_type": "code",
      "metadata": {
        "id": "MGnCSf9x62aI",
        "colab": {
          "base_uri": "https://localhost:8080/",
          "height": 198
        },
        "outputId": "48814dbc-0c27-446a-e3a1-7f455a6232a7"
      },
      "source": [
        "#문자열 함수\n",
        "x = \"Hello Python!\" \n",
        "\n",
        "#len() : 문자열 길이 구하기\n",
        "print(f'문자열 길이 => {len(x)}')\n",
        "\n",
        "#count() : 문자의 개수 구하기\n",
        "print(f'o의 개수  => {x.count(\"o\")}')\n",
        "print(f'on의 개수  => {x.count(\"on\")}')\n",
        "\n",
        "#find() : 문자가 처음 나오는 위치 반환 \n",
        "print(f'p 시작위치  => {x.find(\"p\")}')\n",
        "\n",
        "#index() : 문자가 처음 나오는 위치 반환\n",
        "print(f'python 시작위치  => {x.index(\"Python\")}')\n",
        "\n",
        "#join() : 문자열 사이에 문자 삽입\n",
        "z = '-'.join(x)\n",
        "print(f'{z}')\n",
        "\n",
        "#upper() :소문자를 대문자로 변환\n",
        "print(f'{x} 소문자변환  => {x.upper()}')\n",
        "\n",
        "#lower() : 대문자를 소문자로 변환\n",
        "print(f'{x} 대문자변환  => {x.lower()}')\n",
        "\n",
        "#replace() : 문자열 바꾸기\n",
        "print(f'{x}  => {x.replace(\"P\", \"★\")}') \n",
        "\n",
        "#split() : 문자열 나누기 \n",
        "print(f'{z}  => {z.split(\"-\")}')\n"
      ],
      "execution_count": null,
      "outputs": [
        {
          "output_type": "stream",
          "text": [
            "문자열 길이 => 13\n",
            "o의 개수  => 2\n",
            "on의 개수  => 1\n",
            "p 시작위치  => -1\n",
            "python 시작위치  => 6\n",
            "H-e-l-l-o- -P-y-t-h-o-n-!\n",
            "Hello Python! 소문자변환  => HELLO PYTHON!\n",
            "Hello Python! 대문자변환  => hello python!\n",
            "Hello Python!  => Hello ★ython!\n",
            "H-e-l-l-o- -P-y-t-h-o-n-!  => ['H', 'e', 'l', 'l', 'o', ' ', 'P', 'y', 't', 'h', 'o', 'n', '!']\n"
          ],
          "name": "stdout"
        }
      ]
    },
    {
      "cell_type": "markdown",
      "metadata": {
        "id": "Mz6oho8-7Dkd"
      },
      "source": [
        "\n",
        "\n",
        "---\n",
        "해결문제)\n",
        "\n",
        "코로나(corona)는 라틴말로 왕관을 뜻하며 통상 태양을 둘러싼 외곽의 빛(광환)을 지칭한다. 코로나바이러스라는 이름은 전자현미경으로 이 바이러스를 관찰했을 때 마치 코로나와 유사한 모양을 띠어 붙여진 이름이다. 이번에 중국의 우환에서 시작된 코로나바이러스는 2019년에 발견된 새로운 코로나바이러스라는 뜻으로 2019-nCoV로 붙여졌다. nCoV는 novel(새로운) CoV(코로나바이러스)라는 뜻이다.\n",
        "\n",
        "+ 몇 개의 문장으로 구성 되어 있는지 예시와 같이 출력하시오. \n",
        "+ 찾고자 하는 단어를 입력 받아서 해당 단어가 몇 번 언급되었는지 확인해 보세요.\n",
        "\n"
      ]
    },
    {
      "cell_type": "code",
      "metadata": {
        "id": "w77iSjxZ7l7M"
      },
      "source": [
        "corona = '''\n",
        "코로나(corona)는 라틴말로 왕관을 뜻하며 통상 태양을 둘러싼 외곽의 빛(광환)을 지칭한다. \n",
        "코로나바이러스라는 이름은 전자현미경으로 이 바이러스를 관찰했을 때 마치 코로나와 유사한 모양을 띠어 붙여진 이름이다. \n",
        "이번에 중국의 우환에서 시작된 코로나바이러스는 2019년에 발견된 새로운 코로나바이러스라는 뜻으로 2019-nCoV로 붙여졌다. \n",
        "nCoV는 novel(새로운) CoV(코로나바이러스)라는 뜻이다. \n",
        "'''\n",
        "\n"
      ],
      "execution_count": null,
      "outputs": []
    }
  ]
}