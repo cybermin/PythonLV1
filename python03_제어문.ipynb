{
  "nbformat": 4,
  "nbformat_minor": 0,
  "metadata": {
    "colab": {
      "name": "python03_제어문.ipynb",
      "provenance": [],
      "collapsed_sections": [],
      "include_colab_link": true
    },
    "kernelspec": {
      "name": "python3",
      "display_name": "Python 3"
    }
  },
  "cells": [
    {
      "cell_type": "markdown",
      "metadata": {
        "id": "view-in-github",
        "colab_type": "text"
      },
      "source": [
        "<a href=\"https://colab.research.google.com/github/cybermin/PythonLV1/blob/main/python03_%EC%A0%9C%EC%96%B4%EB%AC%B8.ipynb\" target=\"_parent\"><img src=\"https://colab.research.google.com/assets/colab-badge.svg\" alt=\"Open In Colab\"/></a>"
      ]
    },
    {
      "cell_type": "markdown",
      "metadata": {
        "id": "OeoNltmRAdSn"
      },
      "source": [
        "## 조건문\n",
        "프로그램의 실행 흐름을 바꾸고자 할 때 사용하는 제어문\n",
        " - 사용자가 지정한 조건에 따라 실행할 문장을 결정함\n",
        "```python\n",
        "if (조건식) : \n",
        "  명령문\n",
        "elif (조건식) :\n",
        "  명령문\n",
        "else :\n",
        "  명령문\n",
        "```\n",
        "\n",
        "  - if 조건문 뒤에는 반드시 콜론(:)\n",
        "  - 바로 아래 문장부터 **if문에 속하는 모든 문장에 들여쓰기(indentation)**를 해야 함\n",
        "  - 파이썬에는 다른 언어에 있는 switch 문이 존재하지 않음 : if...elif...elif... 문으로 수행\n",
        "  - pass  : def 문이나 if 문처럼 코드 블록을 본문으로 갖는 표현에서 본문을 비워 둘 때 사용"
      ]
    },
    {
      "cell_type": "code",
      "metadata": {
        "id": "aS31_bgaR4dn",
        "colab": {
          "base_uri": "https://localhost:8080/",
          "height": 53
        },
        "outputId": "2bdd7b19-abd3-48e6-f715-6bcba63a8247"
      },
      "source": [
        "# 조건문\n",
        "# 짝수 홀수 구분 \n",
        "x = int(input('값입력 : '))\n",
        "\n",
        "if x % 2 == 0 :\n",
        "    print(f'{x}는 짝수')\n",
        "\n",
        "if x % 2 == 0 :\n",
        "    print(f'{x}는 짝수')\n",
        "else :\n",
        "    print(f'{x}는 홀수')"
      ],
      "execution_count": null,
      "outputs": [
        {
          "output_type": "stream",
          "text": [
            "값입력 : 31\n",
            "31는 홀수\n"
          ],
          "name": "stdout"
        }
      ]
    },
    {
      "cell_type": "code",
      "metadata": {
        "id": "SgVs11nGYCeO",
        "colab": {
          "base_uri": "https://localhost:8080/",
          "height": 53
        },
        "outputId": "d5da5d5b-dd7e-42af-8c0c-94585e05ee50"
      },
      "source": [
        "# 성적처리 \n",
        "x = float(input('성적입력 : '))\n",
        "\n",
        "if x >= 70 :\n",
        "    print(f'{x}는 Pass')\n",
        "elif x >= 60 :\n",
        "    print(f'{x}는 재시험')\n",
        "else :\n",
        "    print(f'{x}는 fail')\n"
      ],
      "execution_count": null,
      "outputs": [
        {
          "output_type": "stream",
          "text": [
            "성적입력 : 88\n",
            "88.0는 Pass\n"
          ],
          "name": "stdout"
        }
      ]
    },
    {
      "cell_type": "markdown",
      "metadata": {
        "id": "ugOOyJcZL7C4"
      },
      "source": [
        "\n",
        "+ 비교연산자 \n",
        "  + < ,  >,  >=, <=, == , !=\n",
        "\n",
        "+ 논리연산자\n",
        "  + and, or, not\n"
      ]
    },
    {
      "cell_type": "code",
      "metadata": {
        "id": "Mpak5myULP1a"
      },
      "source": [
        "x = 10\n",
        "y = 20"
      ],
      "execution_count": null,
      "outputs": []
    },
    {
      "cell_type": "code",
      "metadata": {
        "id": "ijnkSmAsMJTu",
        "colab": {
          "base_uri": "https://localhost:8080/",
          "height": 89
        },
        "outputId": "fee30694-90d7-44eb-bbae-3a5a2263596e"
      },
      "source": [
        "#비교연산자 \n",
        "print(f'{x} > {y} = { x > y }')\n",
        "print(f'{x} < {y} = { x < y }')\n",
        "print(f'{x} == {y} = { x== y }')\n",
        "print(f'{x} != {y} = { x!= y }')"
      ],
      "execution_count": null,
      "outputs": [
        {
          "output_type": "stream",
          "text": [
            "10 > 20 = False\n",
            "10 < 20 = True\n",
            "10 == 20 = False\n",
            "10 != 20 = True\n"
          ],
          "name": "stdout"
        }
      ]
    },
    {
      "cell_type": "code",
      "metadata": {
        "id": "EOmmm613M35h",
        "colab": {
          "base_uri": "https://localhost:8080/",
          "height": 71
        },
        "outputId": "71bdf707-453c-4944-d41f-0c7b1325d1d5"
      },
      "source": [
        "#논리연산자\n",
        "print(f'{x > 10 and y > 10}')\n",
        "print(f'{x > 10 or y > 10}')\n",
        "print(f'{not x > 10 }')"
      ],
      "execution_count": null,
      "outputs": [
        {
          "output_type": "stream",
          "text": [
            "False\n",
            "True\n",
            "True\n"
          ],
          "name": "stdout"
        }
      ]
    },
    {
      "cell_type": "markdown",
      "metadata": {
        "id": "q445-fSHNofR"
      },
      "source": [
        "## 멤버십 연산자 : in, not in\n",
        "+ 문자열이나 리스트나 튜플과 같이 연속적인 자료구조에 속한 멤버를 확인하기 위한 연산자"
      ]
    },
    {
      "cell_type": "code",
      "metadata": {
        "id": "1tzLShPNNsqe",
        "colab": {
          "base_uri": "https://localhost:8080/",
          "height": 35
        },
        "outputId": "e66f0ba4-9008-4b60-fcd4-7a8b9fd5a41a"
      },
      "source": [
        "str = '안녕하세요.'\n",
        "'안' in str"
      ],
      "execution_count": null,
      "outputs": [
        {
          "output_type": "execute_result",
          "data": {
            "text/plain": [
              "True"
            ]
          },
          "metadata": {
            "tags": []
          },
          "execution_count": 10
        }
      ]
    },
    {
      "cell_type": "markdown",
      "metadata": {
        "id": "6vilRTKoO7RK"
      },
      "source": [
        "## 반복문 - for\n",
        "+ 컬렉션으로부터 하나씩 요소(element)를 가져와, 루프 내의 문장들을 실행"
      ]
    },
    {
      "cell_type": "markdown",
      "metadata": {
        "id": "jSGL8AHSQAQ-"
      },
      "source": [
        "+ **range() 함수**\n",
        "```python\n",
        "range(시작숫자, 종료숫자, step)\n",
        "```\n",
        "  + 결과는 시작숫자부터 종료숫자 바로 앞 숫자까지 컬렉션 생성\n",
        "  + 값을 확인하기 위해서는 순서가 있는 리스트나 튜플 컬렉션으로 변환해야 함\n",
        "  + 시작숫자를 생략하면 0부터 생성\n",
        "  + step을 생략하면 1씩 증가\n"
      ]
    },
    {
      "cell_type": "code",
      "metadata": {
        "id": "kwRAvaJsQnIK",
        "colab": {
          "base_uri": "https://localhost:8080/"
        },
        "outputId": "e26da6c2-67f7-4e56-a2ce-a21a0cf9dba3"
      },
      "source": [
        "# 1에서 50까지 숫자 중의 3의 배수이면서 4의 배수인 수를 출력\n",
        "\n",
        "for i in range(1, 51) :\n",
        "  if i % 3 == 0 and i % 4 == 0 :\n",
        "    print(i, end = ' ')"
      ],
      "execution_count": null,
      "outputs": [
        {
          "output_type": "stream",
          "text": [
            "12 24 36 48 "
          ],
          "name": "stdout"
        }
      ]
    },
    {
      "cell_type": "markdown",
      "metadata": {
        "id": "dr424pzHW-N1"
      },
      "source": [
        "## **반복문 while**\n",
        "+ while 키워드 다음의 조건식이 참일 경우 계속 while 안의 블럭을 실행"
      ]
    },
    {
      "cell_type": "code",
      "metadata": {
        "id": "jea71glDQo3v",
        "colab": {
          "base_uri": "https://localhost:8080/"
        },
        "outputId": "9928a3d7-050b-4aa9-a893-19a5278e75e2"
      },
      "source": [
        "i = 0 \n",
        "while i < 50 :\n",
        "  i = i + 1\n",
        "  if i % 3 != 0 or i % 4 != 0 : continue\n",
        "  \n",
        "  print(i, end = ' ')\n",
        "\n"
      ],
      "execution_count": null,
      "outputs": [
        {
          "output_type": "stream",
          "text": [
            "12 24 36 48 "
          ],
          "name": "stdout"
        }
      ]
    },
    {
      "cell_type": "code",
      "metadata": {
        "id": "If3Is_HFXf9y",
        "colab": {
          "base_uri": "https://localhost:8080/",
          "height": 107
        },
        "outputId": "8e97e116-217a-47d1-f7fd-1128e19ec620"
      },
      "source": [
        "i = 1\n",
        "while i <= 5 :\n",
        "    print(i)\n",
        "    i = i + 1"
      ],
      "execution_count": null,
      "outputs": [
        {
          "output_type": "stream",
          "text": [
            "1\n",
            "2\n",
            "3\n",
            "4\n",
            "5\n"
          ],
          "name": "stdout"
        }
      ]
    },
    {
      "cell_type": "markdown",
      "metadata": {
        "id": "l72yo2UxX2HS"
      },
      "source": [
        "### **break 문**\n",
        "+ 반복문 안에서 루프를 빠져나오기 위해 을 사용\n"
      ]
    },
    {
      "cell_type": "markdown",
      "metadata": {
        "id": "sKA8HKwcobj2"
      },
      "source": [
        "\n",
        "### **continue문**\n",
        "+ 루프 블럭의 나머지 문장들을 실행하지 않고 다음 루프로 직접 돌아가게 함 "
      ]
    },
    {
      "cell_type": "code",
      "metadata": {
        "id": "ckVnUsahYJej",
        "colab": {
          "base_uri": "https://localhost:8080/"
        },
        "outputId": "df8dcbbd-ef5d-4245-f4c4-d694c2851111"
      },
      "source": [
        "i = 0\n",
        "while i <= 5 :\n",
        "    i = i + 1\n",
        "    if i == 2 : continue\n",
        "    \n",
        "    print(i)\n",
        "    \n",
        "    if i == 4 : break"
      ],
      "execution_count": null,
      "outputs": [
        {
          "output_type": "stream",
          "text": [
            "1\n",
            "3\n",
            "4\n"
          ],
          "name": "stdout"
        }
      ]
    },
    {
      "cell_type": "markdown",
      "metadata": {
        "id": "vgdCPWj5t31t"
      },
      "source": [
        "\n",
        "---\n",
        "## **해결문제**\n",
        "\n",
        "\n",
        "---\n",
        "가로와 세로를 입력 받아서 정사각형인지 직사각형인지 판단하고 면적을 구하시오. \n",
        "\n"
      ]
    },
    {
      "cell_type": "code",
      "metadata": {
        "id": "_jKiXOrGt9Gp"
      },
      "source": [
        ""
      ],
      "execution_count": null,
      "outputs": []
    },
    {
      "cell_type": "markdown",
      "metadata": {
        "id": "qqfngTIen-02"
      },
      "source": [
        "---\n",
        "## **해결문제**\n",
        "\n",
        "\n",
        "---\n",
        "n이하의 피보나치 수열을 출력하시오.\n",
        " \n",
        " 예) 1000이하\n",
        " 0, 1, 1, 2, 3, 5, 8, 13, 21, 34, 55, 89, 144, 233, 377, 610, 987"
      ]
    },
    {
      "cell_type": "code",
      "metadata": {
        "id": "yStr4M_YoBF5"
      },
      "source": [
        "n = int(input())\n",
        "a, b = 0, 1\n",
        "\n",
        "while a < n :\n",
        "  print(a, end=' ')\n",
        "  a, b = b , a+b"
      ],
      "execution_count": null,
      "outputs": []
    }
  ]
}